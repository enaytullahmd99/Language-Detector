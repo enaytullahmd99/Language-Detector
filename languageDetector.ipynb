{
 "cells": [
  {
   "cell_type": "code",
   "execution_count": null,
   "id": "afbcb8d4",
   "metadata": {},
   "outputs": [],
   "source": [
    "print(\"hello\")"
   ]
  },
  {
   "cell_type": "code",
   "execution_count": null,
   "id": "09579967",
   "metadata": {},
   "outputs": [],
   "source": [
    "import pandas as pd"
   ]
  },
  {
   "cell_type": "code",
   "execution_count": null,
   "id": "f7356fda",
   "metadata": {},
   "outputs": [],
   "source": [
    "df = pd.read_csv(\"languagedetection.csv\")"
   ]
  },
  {
   "cell_type": "code",
   "execution_count": null,
   "id": "986749a7",
   "metadata": {},
   "outputs": [],
   "source": [
    "df.head(10)"
   ]
  },
  {
   "cell_type": "code",
   "execution_count": null,
   "id": "32ef0c7f",
   "metadata": {},
   "outputs": [],
   "source": [
    "df = df.sample(frac=1).reset_index(drop=True)"
   ]
  },
  {
   "cell_type": "code",
   "execution_count": null,
   "id": "a417a3ff",
   "metadata": {},
   "outputs": [],
   "source": [
    "df"
   ]
  },
  {
   "cell_type": "code",
   "execution_count": null,
   "id": "3e3b79da",
   "metadata": {},
   "outputs": [],
   "source": [
    "print(df.isnull().sum())"
   ]
  },
  {
   "cell_type": "code",
   "execution_count": null,
   "id": "ab63251c",
   "metadata": {},
   "outputs": [],
   "source": [
    "df = df.dropna()\n",
    "df = df.drop_duplicates()"
   ]
  },
  {
   "cell_type": "code",
   "execution_count": null,
   "id": "f00f65c2",
   "metadata": {},
   "outputs": [],
   "source": [
    "df['Text'] = df['Text'].str.strip()"
   ]
  },
  {
   "cell_type": "code",
   "execution_count": null,
   "id": "d5152dc8",
   "metadata": {},
   "outputs": [],
   "source": [
    "df.head(10)"
   ]
  },
  {
   "cell_type": "code",
   "execution_count": null,
   "id": "1892955f",
   "metadata": {},
   "outputs": [],
   "source": [
    "%pip install regex\n",
    "import regex as re \n",
    "\n",
    "def cleaning(text):\n",
    "    if not isinstance(text, str):\n",
    "        return \"\"\n",
    "    # Keep letters (from all languages) and spaces only\n",
    "    text = re.sub(r\"[^\\p{L}\\s]\", \"\", text)   # remove non-letter, non-space chars\n",
    "    text = re.sub(r\"\\s+\", \" \", text).strip() # normalize spaces\n",
    "    return text\n",
    "\n",
    "df[\"Text\"] = df['Text'].apply(cleaning)"
   ]
  },
  {
   "cell_type": "code",
   "execution_count": null,
   "id": "7e6c207e",
   "metadata": {},
   "outputs": [],
   "source": [
    "df"
   ]
  },
  {
   "cell_type": "code",
   "execution_count": null,
   "id": "e19d7772",
   "metadata": {},
   "outputs": [],
   "source": [
    "%pip install scikit-learn\n",
    "from sklearn.feature_extraction.text import TfidfVectorizer\n",
    "from sklearn.model_selection import train_test_split\n",
    "from sklearn.metrics import accuracy_score\n",
    "from sklearn.naive_bayes import MultinomialNB\n",
    "from sklearn.linear_model import LogisticRegression\n",
    "from sklearn.svm import LinearSVC\n",
    "from sklearn.ensemble import RandomForestClassifier"
   ]
  },
  {
   "cell_type": "code",
   "execution_count": null,
   "id": "66336b4f",
   "metadata": {},
   "outputs": [],
   "source": [
    "df"
   ]
  },
  {
   "cell_type": "code",
   "execution_count": null,
   "id": "796f2f46",
   "metadata": {},
   "outputs": [],
   "source": [
    "v = TfidfVectorizer()\n",
    "X = v.fit_transform(df['Text'])\n",
    "y = df['Language']"
   ]
  },
  {
   "cell_type": "code",
   "execution_count": null,
   "id": "2cc7bc51",
   "metadata": {},
   "outputs": [],
   "source": [
    "X_train, X_test, y_train, y_test = train_test_split(X, y, test_size=0.25, random_state=42)"
   ]
  },
  {
   "cell_type": "code",
   "execution_count": null,
   "id": "5ecc30d7",
   "metadata": {},
   "outputs": [],
   "source": [
    "# nb = MultinomialNB()\n",
    "# nb.fit(X_train, y_train)\n",
    "# y_pred = nb.predict(X_test)\n",
    "# acc = accuracy_score(y_test, y_pred)\n",
    "# acc"
   ]
  },
  {
   "cell_type": "code",
   "execution_count": null,
   "id": "64b414fe",
   "metadata": {},
   "outputs": [],
   "source": [
    "# lr = LogisticRegression()\n",
    "# lr.fit(X_train, y_train)\n",
    "# y_pred = lr.predict(X_test)\n",
    "# acc = accuracy_score(y_test, y_pred)\n",
    "# acc"
   ]
  },
  {
   "cell_type": "code",
   "execution_count": null,
   "id": "08323b97",
   "metadata": {},
   "outputs": [],
   "source": [
    "# SVM = LinearSVC()\n",
    "# SVM.fit(X_train, y_train)\n",
    "# y_pred = SVM.predict(X_test)\n",
    "# acc = accuracy_score(y_test, y_pred)\n",
    "# acc"
   ]
  },
  {
   "cell_type": "code",
   "execution_count": null,
   "id": "39e1a864",
   "metadata": {},
   "outputs": [],
   "source": [
    "# rf = RandomForestClassifier()\n",
    "# rf.fit(X_train, y_train)\n",
    "# y_pred = rf.predict(X_test)\n",
    "# acc = accuracy_score(y_test, y_pred)\n",
    "# acc"
   ]
  },
  {
   "cell_type": "code",
   "execution_count": null,
   "id": "72d414bb",
   "metadata": {},
   "outputs": [],
   "source": [
    "models = {\n",
    "    \"Random Forest\": RandomForestClassifier(n_estimators=200, random_state=42),\n",
    "    \"Naive Bayes\": MultinomialNB(),\n",
    "    \"Logistic Regression\": LogisticRegression(max_iter=1000),\n",
    "    \"SVM\": LinearSVC()\n",
    "}\n",
    "\n",
    "results = {}\n",
    "\n",
    "for name, model in models.items():\n",
    "    model.fit(X_train, y_train)\n",
    "    y_pred = model.predict(X_test)\n",
    "    acc = accuracy_score(y_test, y_pred)\n",
    "    results[name] = acc\n",
    "    print(f\"{name} Accuracy: {acc:.4f}\")"
   ]
  },
  {
   "cell_type": "code",
   "execution_count": null,
   "id": "19c0bbd3",
   "metadata": {},
   "outputs": [],
   "source": [
    "%pip install joblib\n",
    "import joblib\n",
    "best_model = max(results, key=results.get)\n",
    "joblib.dump(models[best_model], f\"{best_model.replace(' ', '_')}_model.pkl\")\n",
    "print(f\"✅ Best model '{best_model}' saved!\")"
   ]
  },
  {
   "cell_type": "code",
   "execution_count": null,
   "id": "0c103cde",
   "metadata": {},
   "outputs": [],
   "source": [
    "# best_model_name = max(results, key=results.get)\n",
    "# joblib.dump(v, 'language_vectorizer.pkl')\n",
    "# best_model_object = models[best_model_name]\n",
    "# print(f\"\\n🏆 The best model is '{best_model_name}' with an accuracy of {results[best_model_name]:.4f}\")\n",
    "\n",
    "# # Save the best performing model with a consistent filename\n",
    "# joblib.dump(best_model_object, 'best_language_model.pkl')\n",
    "# print(f\"✅ Best model saved as 'best_language_model.pkl'\")"
   ]
  },
  {
   "cell_type": "code",
   "execution_count": null,
   "id": "22f7b47b",
   "metadata": {},
   "outputs": [],
   "source": [
    "# print(\"\\n\\n--- Starting Language Prediction ---\")\n",
    "\n",
    "# # Load the saved vectorizer and the best model\n",
    "# loaded_vectorizer = joblib.load('language_vectorizer.pkl')\n",
    "# loaded_model = joblib.load('best_language_model.pkl')\n",
    "# print(\"✅ Model and vectorizer loaded successfully!\")\n",
    "\n",
    "# # Get input from the user\n",
    "# user_input = input(\"\\nPlease enter a sentence to identify its language: \")\n",
    "\n",
    "# # Prepare the input for the model\n",
    "# # 1. Put the input into a list\n",
    "# # 2. Transform it using the loaded vectorizer\n",
    "# input_vec = loaded_vectorizer.transform([user_input])\n",
    "\n",
    "# # Make a prediction\n",
    "# prediction = loaded_model.predict(input_vec)\n",
    "\n",
    "# # Get the single prediction result from the array\n",
    "# predicted_language = prediction[0]\n",
    "\n",
    "# # Display the final result\n",
    "# print(f\"\\nInput Text: '{user_input}'\")\n",
    "# print(f\"Predicted Language: {predicted_language}\")"
   ]
  },
  {
   "cell_type": "code",
   "execution_count": null,
   "id": "18a3d232",
   "metadata": {},
   "outputs": [],
   "source": [
    "import joblib\n",
    "\n",
    "# Save both model and vectorizer\n",
    "joblib.dump(models[best_model], f\"{best_model}_model.pkl\")\n",
    "joblib.dump(v, \"tfidf_vectorizer.pkl\")\n",
    "print(f\"✅ Best model and vectorizer saved!\")\n",
    "\n",
    "\n",
    "# Load the trained best model\n",
    "best_model_loaded = joblib.load(\"SVM_model.pkl\")  # Replace 'SVM_model.pkl' with your actual best model filename\n",
    "\n",
    "# Load the TF-IDF vectorizer\n",
    "vectorizer_loaded = joblib.load(\"tfidf_vectorizer.pkl\")"
   ]
  },
  {
   "cell_type": "code",
   "execution_count": null,
   "id": "915bee0d",
   "metadata": {},
   "outputs": [],
   "source": [
    "import regex as re  # multilingual-safe cleaning\n",
    "\n",
    "def clean_input(text):\n",
    "    if not isinstance(text, str):\n",
    "        return \"\"\n",
    "    # Keep letters (from all languages) and spaces only\n",
    "    text = re.sub(r\"[^\\p{L}\\s]\", \"\", text)\n",
    "    text = re.sub(r\"\\s+\", \" \", text).strip()\n",
    "    return text"
   ]
  },
  {
   "cell_type": "code",
   "execution_count": null,
   "id": "be92a668",
   "metadata": {},
   "outputs": [],
   "source": [
    "while True:\n",
    "    user_text = input(\"Enter text to detect language (type 1 to stop): \")\n",
    "\n",
    "    if user_text.strip() == \"1\":\n",
    "        print(\"\\nExiting... 👋\")\n",
    "        break\n",
    "        \n",
    "    cleaned_text = clean_input(user_text)\n",
    "    X_input = vectorizer_loaded.transform([cleaned_text])\n",
    "    predicted_language = best_model_loaded.predict(X_input)[0]\n",
    "\n",
    "    print(f\"\\nInput Text: '{user_text}'\")\n",
    "    print(f\"Predicted Language: {predicted_language}\")"
   ]
  }
 ],
 "metadata": {
  "kernelspec": {
   "display_name": "enayat_venv",
   "language": "python",
   "name": "python3"
  },
  "language_info": {
   "codemirror_mode": {
    "name": "ipython",
    "version": 3
   },
   "file_extension": ".py",
   "mimetype": "text/x-python",
   "name": "python",
   "nbconvert_exporter": "python",
   "pygments_lexer": "ipython3",
   "version": "3.14.0"
  }
 },
 "nbformat": 4,
 "nbformat_minor": 5
}
